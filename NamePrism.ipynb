{
 "cells": [
  {
   "cell_type": "code",
   "execution_count": null,
   "metadata": {},
   "outputs": [
    {
     "ename": "",
     "evalue": "",
     "output_type": "error",
     "traceback": [
      "\u001b[1;31mFailed to start the Kernel. \n",
      "\u001b[1;31mCannot read properties of undefined (reading 'path'). \n",
      "\u001b[1;31mView Jupyter <a href='command:jupyter.viewOutput'>log</a> for further details."
     ]
    }
   ],
   "source": [
    "!pip install tqdm\n"
   ]
  },
  {
   "cell_type": "code",
   "execution_count": 25,
   "metadata": {},
   "outputs": [
    {
     "name": "stdout",
     "output_type": "stream",
     "text": [
      "No checkpoint found. Starting from scratch.\n"
     ]
    },
    {
     "name": "stderr",
     "output_type": "stream",
     "text": [
      "Processing movies:  50%|█████     | 50/100 [10:42<10:56, 13.13s/movie]"
     ]
    },
    {
     "name": "stdout",
     "output_type": "stream",
     "text": [
      "Checkpoint saved at movie 50.\n"
     ]
    },
    {
     "name": "stderr",
     "output_type": "stream",
     "text": [
      "Processing movies: 100%|██████████| 100/100 [21:07<00:00, 12.67s/movie]"
     ]
    },
    {
     "name": "stdout",
     "output_type": "stream",
     "text": [
      "Checkpoint saved at movie 100.\n",
      "Processing complete. Final data saved.\n"
     ]
    },
    {
     "name": "stderr",
     "output_type": "stream",
     "text": [
      "\n"
     ]
    }
   ],
   "source": [
    "import requests\n",
    "import pandas as pd\n",
    "import time\n",
    "import ast\n",
    "from tqdm import tqdm\n",
    "\n",
    "# API key is already provided\n",
    "nameprism_api_key = '56fbbabfa1e49f05'\n",
    "\n",
    "# Function to get ethnicity data from NamePrism API\n",
    "def get_ethnicity(name):\n",
    "    url = f'https://www.name-prism.com/api_token/eth/json/{nameprism_api_key}/{name}'\n",
    "    response = requests.get(url)\n",
    "    if response.status_code == 200:\n",
    "        return response.json()\n",
    "    else:\n",
    "        print(f\"Failed to get ethnicity for {name}: {response.text}\")\n",
    "        return None\n",
    "\n",
    "# Load the movie data CSV file\n",
    "df = pd.read_csv(\"Data/Final/output_with_movie_data.csv\")\n",
    "\n",
    "# Assuming the cast members are in the 10th column (index 9) and are a string representation of a list\n",
    "df['cast'] = df.iloc[:, 9].apply(lambda x: ast.literal_eval(x) if isinstance(x, str) else [])\n",
    "\n",
    "# Prepare a new DataFrame to store cast member names and ethnicities\n",
    "cast_ethnicity_df = pd.DataFrame(columns=['Name', '2PRACE', 'Hispanic', 'API', 'Black', 'AIAN', 'White'])\n",
    "\n",
    "# Define the start and end range for processing\n",
    "start_movie_index = 100  # Modify this as needed\n",
    "end_movie_index = 300    # Modify this as needed\n",
    "\n",
    "# Check if there's a saved checkpoint\n",
    "try:\n",
    "    cast_ethnicity_df = pd.read_csv(\"Data/Final/Ethnicity/cast_ethnicity_checkpoint.csv\")\n",
    "    print(\"Loaded checkpoint data.\")\n",
    "except FileNotFoundError:\n",
    "    print(\"No checkpoint found. Starting from scratch.\")\n",
    "\n",
    "# Loop through the dataframe within the defined range\n",
    "for index, row in tqdm(df.iloc[start_movie_index:end_movie_index].iterrows(), total=end_movie_index-start_movie_index, desc=\"Processing movies\", unit=\"movie\"):\n",
    "    # Extract up to 5 cast members\n",
    "    cast_members = row['cast'][:5]\n",
    "\n",
    "    # Get ethnicity data for each cast member\n",
    "    for cast_member in cast_members:\n",
    "        # Skip if the cast member is already in the DataFrame\n",
    "        if cast_member in cast_ethnicity_df['Name'].values:\n",
    "            continue\n",
    "\n",
    "        try:\n",
    "            # Replace spaces with %20 for URL encoding\n",
    "            encoded_name = cast_member.replace(' ', '%20')\n",
    "            ethnicity = get_ethnicity(encoded_name)\n",
    "            if ethnicity:\n",
    "                # Create a new row with the cast member's name and ethnicities\n",
    "                new_row = pd.DataFrame([{'Name': cast_member, **ethnicity}])\n",
    "                # Append the new row to the cast_ethnicity_df DataFrame using concat\n",
    "                cast_ethnicity_df = pd.concat([cast_ethnicity_df, new_row], ignore_index=True)\n",
    "        except Exception as e:\n",
    "            print(f\"An error occurred while processing {cast_member}: {e}\")\n",
    "            continue  # Skip to the next cast member\n",
    "\n",
    "        # Sleep to respect the API rate limit\n",
    "        time.sleep(1)  # 60 calls per minute means 1 call per second\n",
    "\n",
    "    # Save a checkpoint every 50 movies\n",
    "    if (index + 1 - start_movie_index) % 50 == 0:\n",
    "        cast_ethnicity_df.to_csv(\"Data/Final/Ethnicity/cast_ethnicity_checkpoint.csv\", index=False)\n",
    "        print(f\"Checkpoint saved at movie {index + 1}.\")\n",
    "\n",
    "# Save the final DataFrame to a CSV file\n",
    "cast_ethnicity_df.to_csv(\"Data/Final/Ethnicity/cast_ethnicity.csv\", index=False)\n",
    "print(\"Processing complete. Final data saved.\")\n"
   ]
  }
 ],
 "metadata": {
  "kernelspec": {
   "display_name": "Python 3",
   "language": "python",
   "name": "python3"
  },
  "language_info": {
   "codemirror_mode": {
    "name": "ipython",
    "version": 3
   },
   "file_extension": ".py",
   "mimetype": "text/x-python",
   "name": "python",
   "nbconvert_exporter": "python",
   "pygments_lexer": "ipython3",
   "version": "3.8.5"
  }
 },
 "nbformat": 4,
 "nbformat_minor": 2
}
